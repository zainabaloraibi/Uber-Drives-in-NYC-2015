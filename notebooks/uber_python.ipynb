{
 "cells": [
  {
   "cell_type": "code",
   "execution_count": 1,
   "id": "7bbec035-1202-423b-9f6c-c75c1d4b1f8e",
   "metadata": {},
   "outputs": [],
   "source": [
    "import pandas as pd"
   ]
  },
  {
   "cell_type": "markdown",
   "id": "22d307d8-fee3-49d7-b3e9-d329057c61d7",
   "metadata": {},
   "source": [
    "# Loading Information"
   ]
  },
  {
   "cell_type": "code",
   "execution_count": 3,
   "id": "e1d00288-82aa-4696-bbc0-4a7072816461",
   "metadata": {},
   "outputs": [],
   "source": [
    "uber_df = pd.read_csv('uber-raw.csv')"
   ]
  },
  {
   "cell_type": "code",
   "execution_count": 4,
   "id": "c740a3b8-d49b-4f8a-89c7-2c94cd0f300b",
   "metadata": {},
   "outputs": [
    {
     "data": {
      "text/html": [
       "<div>\n",
       "<style scoped>\n",
       "    .dataframe tbody tr th:only-of-type {\n",
       "        vertical-align: middle;\n",
       "    }\n",
       "\n",
       "    .dataframe tbody tr th {\n",
       "        vertical-align: top;\n",
       "    }\n",
       "\n",
       "    .dataframe thead th {\n",
       "        text-align: right;\n",
       "    }\n",
       "</style>\n",
       "<table border=\"1\" class=\"dataframe\">\n",
       "  <thead>\n",
       "    <tr style=\"text-align: right;\">\n",
       "      <th></th>\n",
       "      <th>Dispatching_base_num</th>\n",
       "      <th>Pickup_date</th>\n",
       "      <th>Affiliated_base_num</th>\n",
       "      <th>locationID</th>\n",
       "    </tr>\n",
       "  </thead>\n",
       "  <tbody>\n",
       "    <tr>\n",
       "      <th>0</th>\n",
       "      <td>B02617</td>\n",
       "      <td>2015-05-17 09:47:00</td>\n",
       "      <td>B02617</td>\n",
       "      <td>141</td>\n",
       "    </tr>\n",
       "    <tr>\n",
       "      <th>1</th>\n",
       "      <td>B02617</td>\n",
       "      <td>2015-05-17 09:47:00</td>\n",
       "      <td>B02617</td>\n",
       "      <td>65</td>\n",
       "    </tr>\n",
       "    <tr>\n",
       "      <th>2</th>\n",
       "      <td>B02617</td>\n",
       "      <td>2015-05-17 09:47:00</td>\n",
       "      <td>B02617</td>\n",
       "      <td>100</td>\n",
       "    </tr>\n",
       "    <tr>\n",
       "      <th>3</th>\n",
       "      <td>B02617</td>\n",
       "      <td>2015-05-17 09:47:00</td>\n",
       "      <td>B02774</td>\n",
       "      <td>80</td>\n",
       "    </tr>\n",
       "    <tr>\n",
       "      <th>4</th>\n",
       "      <td>B02617</td>\n",
       "      <td>2015-05-17 09:47:00</td>\n",
       "      <td>B02617</td>\n",
       "      <td>90</td>\n",
       "    </tr>\n",
       "    <tr>\n",
       "      <th>...</th>\n",
       "      <td>...</td>\n",
       "      <td>...</td>\n",
       "      <td>...</td>\n",
       "      <td>...</td>\n",
       "    </tr>\n",
       "    <tr>\n",
       "      <th>95</th>\n",
       "      <td>B02617</td>\n",
       "      <td>2015-05-17 10:04:00</td>\n",
       "      <td>B02617</td>\n",
       "      <td>61</td>\n",
       "    </tr>\n",
       "    <tr>\n",
       "      <th>96</th>\n",
       "      <td>B02617</td>\n",
       "      <td>2015-05-17 10:04:00</td>\n",
       "      <td>B02617</td>\n",
       "      <td>231</td>\n",
       "    </tr>\n",
       "    <tr>\n",
       "      <th>97</th>\n",
       "      <td>B02617</td>\n",
       "      <td>2015-05-17 10:04:00</td>\n",
       "      <td>B02617</td>\n",
       "      <td>79</td>\n",
       "    </tr>\n",
       "    <tr>\n",
       "      <th>98</th>\n",
       "      <td>B02617</td>\n",
       "      <td>2015-05-17 10:04:00</td>\n",
       "      <td>B02617</td>\n",
       "      <td>141</td>\n",
       "    </tr>\n",
       "    <tr>\n",
       "      <th>99</th>\n",
       "      <td>B02617</td>\n",
       "      <td>2015-05-17 10:04:00</td>\n",
       "      <td>B02617</td>\n",
       "      <td>234</td>\n",
       "    </tr>\n",
       "  </tbody>\n",
       "</table>\n",
       "<p>100 rows × 4 columns</p>\n",
       "</div>"
      ],
      "text/plain": [
       "   Dispatching_base_num          Pickup_date Affiliated_base_num  locationID\n",
       "0                B02617  2015-05-17 09:47:00              B02617         141\n",
       "1                B02617  2015-05-17 09:47:00              B02617          65\n",
       "2                B02617  2015-05-17 09:47:00              B02617         100\n",
       "3                B02617  2015-05-17 09:47:00              B02774          80\n",
       "4                B02617  2015-05-17 09:47:00              B02617          90\n",
       "..                  ...                  ...                 ...         ...\n",
       "95               B02617  2015-05-17 10:04:00              B02617          61\n",
       "96               B02617  2015-05-17 10:04:00              B02617         231\n",
       "97               B02617  2015-05-17 10:04:00              B02617          79\n",
       "98               B02617  2015-05-17 10:04:00              B02617         141\n",
       "99               B02617  2015-05-17 10:04:00              B02617         234\n",
       "\n",
       "[100 rows x 4 columns]"
      ]
     },
     "execution_count": 4,
     "metadata": {},
     "output_type": "execute_result"
    }
   ],
   "source": [
    "uber_df.head(100)\n"
   ]
  },
  {
   "cell_type": "markdown",
   "id": "a723bc94-4eac-4852-95f4-4a6f5b548464",
   "metadata": {},
   "source": [
    "# Cleaning"
   ]
  },
  {
   "cell_type": "markdown",
   "id": "2b383368-1601-46e3-8c6f-e899a19fc5a3",
   "metadata": {},
   "source": [
    "Checking for Nulls\n"
   ]
  },
  {
   "cell_type": "code",
   "execution_count": 6,
   "id": "a25778f1-0628-443b-af66-7895acb59743",
   "metadata": {},
   "outputs": [
    {
     "data": {
      "text/plain": [
       "Dispatching_base_num         0\n",
       "Pickup_date                  0\n",
       "Affiliated_base_num     162195\n",
       "locationID                   0\n",
       "dtype: int64"
      ]
     },
     "execution_count": 6,
     "metadata": {},
     "output_type": "execute_result"
    }
   ],
   "source": [
    "uber_df.isnull().sum()"
   ]
  },
  {
   "cell_type": "markdown",
   "id": "410fb49c-3a36-47d9-b371-0da54b674bf4",
   "metadata": {},
   "source": [
    "Affiliated base num is not usefull and has nulls so we will drop it"
   ]
  },
  {
   "cell_type": "code",
   "execution_count": 8,
   "id": "a6f388fd-51db-40d3-a680-cbfc8ac1d70c",
   "metadata": {},
   "outputs": [],
   "source": [
    "uber_df.drop_duplicates(inplace = True)"
   ]
  },
  {
   "cell_type": "code",
   "execution_count": 9,
   "id": "d6c0ffc6-af96-4c14-a213-584e5886b869",
   "metadata": {},
   "outputs": [
    {
     "data": {
      "text/plain": [
       "0"
      ]
     },
     "execution_count": 9,
     "metadata": {},
     "output_type": "execute_result"
    }
   ],
   "source": [
    "uber_df.duplicated().sum()"
   ]
  },
  {
   "cell_type": "code",
   "execution_count": 10,
   "id": "c07079fc-4b87-4e21-88a8-7196f546c114",
   "metadata": {},
   "outputs": [],
   "source": [
    "uber_df2 = uber_df.drop(['Affiliated_base_num'], axis=1)"
   ]
  },
  {
   "cell_type": "code",
   "execution_count": 11,
   "id": "7981ca52-296d-416c-bd31-2561fd71c475",
   "metadata": {},
   "outputs": [
    {
     "data": {
      "text/plain": [
       "542147"
      ]
     },
     "execution_count": 11,
     "metadata": {},
     "output_type": "execute_result"
    }
   ],
   "source": [
    "uber_df2.duplicated().sum()"
   ]
  },
  {
   "cell_type": "code",
   "execution_count": 12,
   "id": "49477c57-81c6-4d4a-aa03-cc15af93842d",
   "metadata": {},
   "outputs": [],
   "source": [
    "uber_df2['Pickup_date']= pd.to_datetime(uber_df2['Pickup_date'], format='%Y-%m-%d %H:%M:%S')"
   ]
  },
  {
   "cell_type": "markdown",
   "id": "305c42b4-0b0d-473c-86e8-03261b66b1ba",
   "metadata": {},
   "source": [
    "Creating new columns for year, month, date, hour and minute.\n"
   ]
  },
  {
   "cell_type": "code",
   "execution_count": 14,
   "id": "222f231d-ac46-40f5-b0cf-4c0f704ca5ff",
   "metadata": {},
   "outputs": [],
   "source": [
    "uber_df2['Year'] = uber_df2['Pickup_date'].dt.year"
   ]
  },
  {
   "cell_type": "code",
   "execution_count": 15,
   "id": "e2731f2f-581a-4492-9b9a-898c8e4fbb53",
   "metadata": {},
   "outputs": [],
   "source": [
    "uber_df2['Month'] = uber_df2['Pickup_date'].dt.month"
   ]
  },
  {
   "cell_type": "code",
   "execution_count": 16,
   "id": "94e1b79f-03e1-4463-9d7d-4203d51e11ea",
   "metadata": {},
   "outputs": [],
   "source": [
    "uber_df2['Day'] = uber_df2['Pickup_date'].dt.day"
   ]
  },
  {
   "cell_type": "code",
   "execution_count": 17,
   "id": "5c931f0a-f7f4-4b80-9c33-140f5c01d1cc",
   "metadata": {},
   "outputs": [],
   "source": [
    "uber_df2['Hour'] = uber_df2['Pickup_date'].dt.hour"
   ]
  },
  {
   "cell_type": "code",
   "execution_count": 18,
   "id": "69ef473a-1183-4152-a33d-1facaa9f3f41",
   "metadata": {},
   "outputs": [],
   "source": [
    "uber_df2['Minute'] = uber_df2['Pickup_date'].dt.minute"
   ]
  },
  {
   "cell_type": "markdown",
   "id": "db5d8536-8c56-4605-957c-078766ff3a3e",
   "metadata": {},
   "source": [
    "Group by day,hour"
   ]
  },
  {
   "cell_type": "code",
   "execution_count": 407,
   "id": "cbf98044-d5c3-4bdc-8b3e-2d0f6546017e",
   "metadata": {},
   "outputs": [],
   "source": [
    "peak_hour=uber_df2.groupby(by='Hour').Hour.count().reset_index(name='Count').sort_values(by='Hour',ascending=True)"
   ]
  },
  {
   "cell_type": "code",
   "execution_count": 409,
   "id": "c186083e-b5fc-4749-93f0-4e56ae7dee6c",
   "metadata": {},
   "outputs": [
    {
     "data": {
      "text/html": [
       "<div>\n",
       "<style scoped>\n",
       "    .dataframe tbody tr th:only-of-type {\n",
       "        vertical-align: middle;\n",
       "    }\n",
       "\n",
       "    .dataframe tbody tr th {\n",
       "        vertical-align: top;\n",
       "    }\n",
       "\n",
       "    .dataframe thead th {\n",
       "        text-align: right;\n",
       "    }\n",
       "</style>\n",
       "<table border=\"1\" class=\"dataframe\">\n",
       "  <thead>\n",
       "    <tr style=\"text-align: right;\">\n",
       "      <th></th>\n",
       "      <th>Hour</th>\n",
       "      <th>Count</th>\n",
       "    </tr>\n",
       "  </thead>\n",
       "  <tbody>\n",
       "    <tr>\n",
       "      <th>0</th>\n",
       "      <td>0</td>\n",
       "      <td>557302</td>\n",
       "    </tr>\n",
       "    <tr>\n",
       "      <th>1</th>\n",
       "      <td>1</td>\n",
       "      <td>368383</td>\n",
       "    </tr>\n",
       "    <tr>\n",
       "      <th>2</th>\n",
       "      <td>2</td>\n",
       "      <td>246387</td>\n",
       "    </tr>\n",
       "    <tr>\n",
       "      <th>3</th>\n",
       "      <td>3</td>\n",
       "      <td>176216</td>\n",
       "    </tr>\n",
       "    <tr>\n",
       "      <th>4</th>\n",
       "      <td>4</td>\n",
       "      <td>168058</td>\n",
       "    </tr>\n",
       "    <tr>\n",
       "      <th>5</th>\n",
       "      <td>5</td>\n",
       "      <td>189086</td>\n",
       "    </tr>\n",
       "    <tr>\n",
       "      <th>6</th>\n",
       "      <td>6</td>\n",
       "      <td>279978</td>\n",
       "    </tr>\n",
       "    <tr>\n",
       "      <th>7</th>\n",
       "      <td>7</td>\n",
       "      <td>426073</td>\n",
       "    </tr>\n",
       "    <tr>\n",
       "      <th>8</th>\n",
       "      <td>8</td>\n",
       "      <td>555338</td>\n",
       "    </tr>\n",
       "    <tr>\n",
       "      <th>9</th>\n",
       "      <td>9</td>\n",
       "      <td>564992</td>\n",
       "    </tr>\n",
       "    <tr>\n",
       "      <th>10</th>\n",
       "      <td>10</td>\n",
       "      <td>498806</td>\n",
       "    </tr>\n",
       "    <tr>\n",
       "      <th>11</th>\n",
       "      <td>11</td>\n",
       "      <td>495523</td>\n",
       "    </tr>\n",
       "    <tr>\n",
       "      <th>12</th>\n",
       "      <td>12</td>\n",
       "      <td>510338</td>\n",
       "    </tr>\n",
       "    <tr>\n",
       "      <th>13</th>\n",
       "      <td>13</td>\n",
       "      <td>514730</td>\n",
       "    </tr>\n",
       "    <tr>\n",
       "      <th>14</th>\n",
       "      <td>14</td>\n",
       "      <td>556650</td>\n",
       "    </tr>\n",
       "    <tr>\n",
       "      <th>15</th>\n",
       "      <td>15</td>\n",
       "      <td>614392</td>\n",
       "    </tr>\n",
       "    <tr>\n",
       "      <th>16</th>\n",
       "      <td>16</td>\n",
       "      <td>691959</td>\n",
       "    </tr>\n",
       "    <tr>\n",
       "      <th>17</th>\n",
       "      <td>17</td>\n",
       "      <td>803914</td>\n",
       "    </tr>\n",
       "    <tr>\n",
       "      <th>18</th>\n",
       "      <td>18</td>\n",
       "      <td>910605</td>\n",
       "    </tr>\n",
       "    <tr>\n",
       "      <th>19</th>\n",
       "      <td>19</td>\n",
       "      <td>928175</td>\n",
       "    </tr>\n",
       "    <tr>\n",
       "      <th>20</th>\n",
       "      <td>20</td>\n",
       "      <td>872198</td>\n",
       "    </tr>\n",
       "    <tr>\n",
       "      <th>21</th>\n",
       "      <td>21</td>\n",
       "      <td>851426</td>\n",
       "    </tr>\n",
       "    <tr>\n",
       "      <th>22</th>\n",
       "      <td>22</td>\n",
       "      <td>844112</td>\n",
       "    </tr>\n",
       "    <tr>\n",
       "      <th>23</th>\n",
       "      <td>23</td>\n",
       "      <td>747613</td>\n",
       "    </tr>\n",
       "  </tbody>\n",
       "</table>\n",
       "</div>"
      ],
      "text/plain": [
       "    Hour   Count\n",
       "0      0  557302\n",
       "1      1  368383\n",
       "2      2  246387\n",
       "3      3  176216\n",
       "4      4  168058\n",
       "5      5  189086\n",
       "6      6  279978\n",
       "7      7  426073\n",
       "8      8  555338\n",
       "9      9  564992\n",
       "10    10  498806\n",
       "11    11  495523\n",
       "12    12  510338\n",
       "13    13  514730\n",
       "14    14  556650\n",
       "15    15  614392\n",
       "16    16  691959\n",
       "17    17  803914\n",
       "18    18  910605\n",
       "19    19  928175\n",
       "20    20  872198\n",
       "21    21  851426\n",
       "22    22  844112\n",
       "23    23  747613"
      ]
     },
     "execution_count": 409,
     "metadata": {},
     "output_type": "execute_result"
    }
   ],
   "source": [
    "peak_hour"
   ]
  },
  {
   "cell_type": "markdown",
   "id": "a1d23878-0ad7-4fdf-a3ee-ccb2dfe2e5fc",
   "metadata": {},
   "source": [
    "We will delete the Pickup_date column as its not needed anymore."
   ]
  },
  {
   "cell_type": "code",
   "execution_count": 20,
   "id": "f01b986b-8839-474c-944e-c8a9c3488166",
   "metadata": {},
   "outputs": [],
   "source": [
    "uber_df2['Day_Name'] = uber_df2['Pickup_date'].dt.day_name()"
   ]
  },
  {
   "cell_type": "code",
   "execution_count": 21,
   "id": "3d5c7227-d671-4e48-b50c-f0254da3374b",
   "metadata": {},
   "outputs": [
    {
     "data": {
      "text/plain": [
       "0           Sunday\n",
       "1           Sunday\n",
       "2           Sunday\n",
       "3           Sunday\n",
       "4           Sunday\n",
       "             ...  \n",
       "14270474    Friday\n",
       "14270475    Friday\n",
       "14270476    Friday\n",
       "14270477    Friday\n",
       "14270478    Friday\n",
       "Name: Day_Name, Length: 13372254, dtype: object"
      ]
     },
     "execution_count": 21,
     "metadata": {},
     "output_type": "execute_result"
    }
   ],
   "source": [
    "uber_df2['Day_Name']"
   ]
  },
  {
   "cell_type": "code",
   "execution_count": 525,
   "id": "0d8ec33f-7829-468c-9060-3fc9e83edfc2",
   "metadata": {},
   "outputs": [],
   "source": [
    "day_name=uber_df2.groupby(by='Day_Name').Day_Name.count()"
   ]
  },
  {
   "cell_type": "code",
   "execution_count": 527,
   "id": "c47727e5-c67b-44d2-8ad5-7c9bcb341ba0",
   "metadata": {},
   "outputs": [
    {
     "data": {
      "text/html": [
       "<div>\n",
       "<style scoped>\n",
       "    .dataframe tbody tr th:only-of-type {\n",
       "        vertical-align: middle;\n",
       "    }\n",
       "\n",
       "    .dataframe tbody tr th {\n",
       "        vertical-align: top;\n",
       "    }\n",
       "\n",
       "    .dataframe thead th {\n",
       "        text-align: right;\n",
       "    }\n",
       "</style>\n",
       "<table border=\"1\" class=\"dataframe\">\n",
       "  <thead>\n",
       "    <tr style=\"text-align: right;\">\n",
       "      <th></th>\n",
       "      <th>Day_Name</th>\n",
       "      <th>Num_rides</th>\n",
       "    </tr>\n",
       "  </thead>\n",
       "  <tbody>\n",
       "    <tr>\n",
       "      <th>0</th>\n",
       "      <td>Friday</td>\n",
       "      <td>2138827</td>\n",
       "    </tr>\n",
       "    <tr>\n",
       "      <th>1</th>\n",
       "      <td>Monday</td>\n",
       "      <td>1604727</td>\n",
       "    </tr>\n",
       "    <tr>\n",
       "      <th>2</th>\n",
       "      <td>Saturday</td>\n",
       "      <td>2257365</td>\n",
       "    </tr>\n",
       "    <tr>\n",
       "      <th>3</th>\n",
       "      <td>Sunday</td>\n",
       "      <td>1838867</td>\n",
       "    </tr>\n",
       "    <tr>\n",
       "      <th>4</th>\n",
       "      <td>Thursday</td>\n",
       "      <td>2010859</td>\n",
       "    </tr>\n",
       "    <tr>\n",
       "      <th>5</th>\n",
       "      <td>Tuesday</td>\n",
       "      <td>1750604</td>\n",
       "    </tr>\n",
       "    <tr>\n",
       "      <th>6</th>\n",
       "      <td>Wednesday</td>\n",
       "      <td>1771005</td>\n",
       "    </tr>\n",
       "  </tbody>\n",
       "</table>\n",
       "</div>"
      ],
      "text/plain": [
       "    Day_Name  Num_rides\n",
       "0     Friday    2138827\n",
       "1     Monday    1604727\n",
       "2   Saturday    2257365\n",
       "3     Sunday    1838867\n",
       "4   Thursday    2010859\n",
       "5    Tuesday    1750604\n",
       "6  Wednesday    1771005"
      ]
     },
     "execution_count": 527,
     "metadata": {},
     "output_type": "execute_result"
    }
   ],
   "source": [
    "day_name = pd.DataFrame(day_name).rename(columns = {'Day_Name':'Num_rides'}).reset_index()\n",
    "day_name"
   ]
  },
  {
   "cell_type": "markdown",
   "id": "b12d36bf-5830-480f-8c7f-3070763601f6",
   "metadata": {},
   "source": [
    "Creating a Data Frame for number of rides for each day "
   ]
  },
  {
   "cell_type": "code",
   "execution_count": 565,
   "id": "20786645-1b1f-4eec-ae71-5abfdd1d8c56",
   "metadata": {},
   "outputs": [],
   "source": [
    "day_name['Day_Name'] = pd.Categorical(day_name['Day_Name'], [\"Monday\", \"Tuesday\", \"Wednesday\", \"Thursday\", \"Friday\", \"Saturday\", \"Sunday\"])"
   ]
  },
  {
   "cell_type": "code",
   "execution_count": 567,
   "id": "5f75d1f3-1497-4b05-86e7-bd3b5260cc94",
   "metadata": {},
   "outputs": [
    {
     "data": {
      "text/html": [
       "<div>\n",
       "<style scoped>\n",
       "    .dataframe tbody tr th:only-of-type {\n",
       "        vertical-align: middle;\n",
       "    }\n",
       "\n",
       "    .dataframe tbody tr th {\n",
       "        vertical-align: top;\n",
       "    }\n",
       "\n",
       "    .dataframe thead th {\n",
       "        text-align: right;\n",
       "    }\n",
       "</style>\n",
       "<table border=\"1\" class=\"dataframe\">\n",
       "  <thead>\n",
       "    <tr style=\"text-align: right;\">\n",
       "      <th></th>\n",
       "      <th>Day_Name</th>\n",
       "      <th>Num_rides</th>\n",
       "    </tr>\n",
       "  </thead>\n",
       "  <tbody>\n",
       "    <tr>\n",
       "      <th>0</th>\n",
       "      <td>Friday</td>\n",
       "      <td>2138827</td>\n",
       "    </tr>\n",
       "    <tr>\n",
       "      <th>1</th>\n",
       "      <td>Monday</td>\n",
       "      <td>1604727</td>\n",
       "    </tr>\n",
       "    <tr>\n",
       "      <th>2</th>\n",
       "      <td>Saturday</td>\n",
       "      <td>2257365</td>\n",
       "    </tr>\n",
       "    <tr>\n",
       "      <th>3</th>\n",
       "      <td>Sunday</td>\n",
       "      <td>1838867</td>\n",
       "    </tr>\n",
       "    <tr>\n",
       "      <th>4</th>\n",
       "      <td>Thursday</td>\n",
       "      <td>2010859</td>\n",
       "    </tr>\n",
       "    <tr>\n",
       "      <th>5</th>\n",
       "      <td>Tuesday</td>\n",
       "      <td>1750604</td>\n",
       "    </tr>\n",
       "    <tr>\n",
       "      <th>6</th>\n",
       "      <td>Wednesday</td>\n",
       "      <td>1771005</td>\n",
       "    </tr>\n",
       "  </tbody>\n",
       "</table>\n",
       "</div>"
      ],
      "text/plain": [
       "    Day_Name  Num_rides\n",
       "0     Friday    2138827\n",
       "1     Monday    1604727\n",
       "2   Saturday    2257365\n",
       "3     Sunday    1838867\n",
       "4   Thursday    2010859\n",
       "5    Tuesday    1750604\n",
       "6  Wednesday    1771005"
      ]
     },
     "execution_count": 567,
     "metadata": {},
     "output_type": "execute_result"
    }
   ],
   "source": [
    "day_name"
   ]
  },
  {
   "cell_type": "markdown",
   "id": "2875dc81-68a0-46e2-adb9-dea17cd97848",
   "metadata": {},
   "source": [
    "Plot the day_name Data Frame"
   ]
  },
  {
   "cell_type": "code",
   "execution_count": 660,
   "id": "bb887662-2c85-4f41-8826-e349e1f10175",
   "metadata": {},
   "outputs": [
    {
     "data": {
      "text/plain": [
       "<Axes: title={'center': 'Total Rides per Day'}, xlabel='Day', ylabel='Number of Rides'>"
      ]
     },
     "execution_count": 660,
     "metadata": {},
     "output_type": "execute_result"
    },
    {
     "data": {
      "image/png": "[encoded data removed]",
      "text/plain": [
       "<Figure size 640x480 with 1 Axes>"
      ]
     },
     "metadata": {},
     "output_type": "display_data"
    }
   ],
   "source": [
    "day_name.sort_values(\"Day_Name\").plot(kind=\"bar\", x='Day_Name', y='Num_rides',legend=False,title=\"Total Rides per Day\",xlabel='Day',ylabel='Number of Rides')"
   ]
  },
  {
   "cell_type": "markdown",
   "id": "31f8893e-138c-4152-87be-477a8ca9da60",
   "metadata": {},
   "source": [
    "Plot peak_hour within the day"
   ]
  },
  {
   "cell_type": "code",
   "execution_count": null,
   "id": "44eef2c2-229b-410d-b819-6f4e62260251",
   "metadata": {},
   "outputs": [],
   "source": []
  },
  {
   "cell_type": "code",
   "execution_count": 658,
   "id": "d36b5b8c-a7d3-451f-b159-90e7dd3ddad0",
   "metadata": {},
   "outputs": [
    {
     "data": {
      "text/plain": [
       "<Axes: title={'center': 'Demand Uber Rides during the Day'}, xlabel='Hour', ylabel='Number of Rides'>"
      ]
     },
     "execution_count": 658,
     "metadata": {},
     "output_type": "execute_result"
    },
    {
     "data": {
      "image/png": "[encoded data removed]",
      "text/plain": [
       "<Figure size 640x480 with 1 Axes>"
      ]
     },
     "metadata": {},
     "output_type": "display_data"
    }
   ],
   "source": [
    "peak_hour.plot(kind='line',x='Hour',y='Count',grid=True,legend=False,title=\"Demand Uber Rides during the Day\",xlabel='Hour',ylabel='Number of Rides',xticks=range(0,24),xlim=(0,23))"
   ]
  },
  {
   "cell_type": "markdown",
   "id": "fb79ebcd-d236-4b29-9784-048d523396bc",
   "metadata": {},
   "source": [
    "Droping unnecessary columns "
   ]
  },
  {
   "cell_type": "code",
   "execution_count": 146,
   "id": "666b7944-3175-4a7f-9a46-11b907abf59a",
   "metadata": {},
   "outputs": [],
   "source": [
    "uber_df3 = uber_df2.drop(['Pickup_date','Dispatching_base_num'], axis=1)"
   ]
  },
  {
   "cell_type": "code",
   "execution_count": 539,
   "id": "a9bfb311-b49d-470c-97e8-b70c4360f1ec",
   "metadata": {},
   "outputs": [
    {
     "data": {
      "text/plain": [
       "Index(['locationID', 'Year', 'Month', 'Day', 'Hour', 'Minute', 'Day_Name'], dtype='object')"
      ]
     },
     "execution_count": 539,
     "metadata": {},
     "output_type": "execute_result"
    }
   ],
   "source": [
    "uber_df3.columns"
   ]
  },
  {
   "cell_type": "markdown",
   "id": "238b739d-52ad-4967-afe7-4a4e8d39fe76",
   "metadata": {},
   "source": [
    "Merge taxi-zone to get the location name"
   ]
  },
  {
   "cell_type": "code",
   "execution_count": 151,
   "id": "10f6076f-2fd5-4d7c-88e0-fe700e281da8",
   "metadata": {},
   "outputs": [],
   "source": [
    "taxi_zone=pd.read_csv('taxi-zone-lookup.csv')"
   ]
  },
  {
   "cell_type": "code",
   "execution_count": 153,
   "id": "836330bb-6988-43d2-b690-68541c668065",
   "metadata": {},
   "outputs": [
    {
     "data": {
      "text/plain": [
       "Index(['LocationID', 'Borough', 'Zone'], dtype='object')"
      ]
     },
     "execution_count": 153,
     "metadata": {},
     "output_type": "execute_result"
    }
   ],
   "source": [
    "taxi_zone.columns"
   ]
  },
  {
   "cell_type": "code",
   "execution_count": 155,
   "id": "7542fe8d-e0f0-438d-9f65-471daa3a5495",
   "metadata": {},
   "outputs": [],
   "source": [
    "uber_df4=uber_df3.merge(taxi_zone,\"left\",left_on=\"locationID\",right_on=\"LocationID\")"
   ]
  },
  {
   "cell_type": "code",
   "execution_count": 156,
   "id": "eba310f0-38bc-49b6-9557-92d0f3a43429",
   "metadata": {},
   "outputs": [
    {
     "data": {
      "text/html": [
       "<div>\n",
       "<style scoped>\n",
       "    .dataframe tbody tr th:only-of-type {\n",
       "        vertical-align: middle;\n",
       "    }\n",
       "\n",
       "    .dataframe tbody tr th {\n",
       "        vertical-align: top;\n",
       "    }\n",
       "\n",
       "    .dataframe thead th {\n",
       "        text-align: right;\n",
       "    }\n",
       "</style>\n",
       "<table border=\"1\" class=\"dataframe\">\n",
       "  <thead>\n",
       "    <tr style=\"text-align: right;\">\n",
       "      <th></th>\n",
       "      <th>locationID</th>\n",
       "      <th>Year</th>\n",
       "      <th>Month</th>\n",
       "      <th>Day</th>\n",
       "      <th>Hour</th>\n",
       "      <th>Minute</th>\n",
       "      <th>Day_Name</th>\n",
       "      <th>LocationID</th>\n",
       "      <th>Borough</th>\n",
       "      <th>Zone</th>\n",
       "    </tr>\n",
       "  </thead>\n",
       "  <tbody>\n",
       "    <tr>\n",
       "      <th>0</th>\n",
       "      <td>141</td>\n",
       "      <td>2015</td>\n",
       "      <td>5</td>\n",
       "      <td>17</td>\n",
       "      <td>9</td>\n",
       "      <td>47</td>\n",
       "      <td>Sunday</td>\n",
       "      <td>141</td>\n",
       "      <td>Manhattan</td>\n",
       "      <td>Lenox Hill West</td>\n",
       "    </tr>\n",
       "    <tr>\n",
       "      <th>1</th>\n",
       "      <td>65</td>\n",
       "      <td>2015</td>\n",
       "      <td>5</td>\n",
       "      <td>17</td>\n",
       "      <td>9</td>\n",
       "      <td>47</td>\n",
       "      <td>Sunday</td>\n",
       "      <td>65</td>\n",
       "      <td>Brooklyn</td>\n",
       "      <td>Downtown Brooklyn/MetroTech</td>\n",
       "    </tr>\n",
       "    <tr>\n",
       "      <th>2</th>\n",
       "      <td>100</td>\n",
       "      <td>2015</td>\n",
       "      <td>5</td>\n",
       "      <td>17</td>\n",
       "      <td>9</td>\n",
       "      <td>47</td>\n",
       "      <td>Sunday</td>\n",
       "      <td>100</td>\n",
       "      <td>Manhattan</td>\n",
       "      <td>Garment District</td>\n",
       "    </tr>\n",
       "    <tr>\n",
       "      <th>3</th>\n",
       "      <td>80</td>\n",
       "      <td>2015</td>\n",
       "      <td>5</td>\n",
       "      <td>17</td>\n",
       "      <td>9</td>\n",
       "      <td>47</td>\n",
       "      <td>Sunday</td>\n",
       "      <td>80</td>\n",
       "      <td>Brooklyn</td>\n",
       "      <td>East Williamsburg</td>\n",
       "    </tr>\n",
       "    <tr>\n",
       "      <th>4</th>\n",
       "      <td>90</td>\n",
       "      <td>2015</td>\n",
       "      <td>5</td>\n",
       "      <td>17</td>\n",
       "      <td>9</td>\n",
       "      <td>47</td>\n",
       "      <td>Sunday</td>\n",
       "      <td>90</td>\n",
       "      <td>Manhattan</td>\n",
       "      <td>Flatiron</td>\n",
       "    </tr>\n",
       "    <tr>\n",
       "      <th>...</th>\n",
       "      <td>...</td>\n",
       "      <td>...</td>\n",
       "      <td>...</td>\n",
       "      <td>...</td>\n",
       "      <td>...</td>\n",
       "      <td>...</td>\n",
       "      <td>...</td>\n",
       "      <td>...</td>\n",
       "      <td>...</td>\n",
       "      <td>...</td>\n",
       "    </tr>\n",
       "    <tr>\n",
       "      <th>13372249</th>\n",
       "      <td>186</td>\n",
       "      <td>2015</td>\n",
       "      <td>5</td>\n",
       "      <td>8</td>\n",
       "      <td>15</td>\n",
       "      <td>43</td>\n",
       "      <td>Friday</td>\n",
       "      <td>186</td>\n",
       "      <td>Manhattan</td>\n",
       "      <td>Penn Station/Madison Sq West</td>\n",
       "    </tr>\n",
       "    <tr>\n",
       "      <th>13372250</th>\n",
       "      <td>263</td>\n",
       "      <td>2015</td>\n",
       "      <td>5</td>\n",
       "      <td>8</td>\n",
       "      <td>15</td>\n",
       "      <td>43</td>\n",
       "      <td>Friday</td>\n",
       "      <td>263</td>\n",
       "      <td>Manhattan</td>\n",
       "      <td>Yorkville West</td>\n",
       "    </tr>\n",
       "    <tr>\n",
       "      <th>13372251</th>\n",
       "      <td>90</td>\n",
       "      <td>2015</td>\n",
       "      <td>5</td>\n",
       "      <td>8</td>\n",
       "      <td>15</td>\n",
       "      <td>43</td>\n",
       "      <td>Friday</td>\n",
       "      <td>90</td>\n",
       "      <td>Manhattan</td>\n",
       "      <td>Flatiron</td>\n",
       "    </tr>\n",
       "    <tr>\n",
       "      <th>13372252</th>\n",
       "      <td>45</td>\n",
       "      <td>2015</td>\n",
       "      <td>5</td>\n",
       "      <td>8</td>\n",
       "      <td>15</td>\n",
       "      <td>44</td>\n",
       "      <td>Friday</td>\n",
       "      <td>45</td>\n",
       "      <td>Manhattan</td>\n",
       "      <td>Chinatown</td>\n",
       "    </tr>\n",
       "    <tr>\n",
       "      <th>13372253</th>\n",
       "      <td>144</td>\n",
       "      <td>2015</td>\n",
       "      <td>5</td>\n",
       "      <td>8</td>\n",
       "      <td>15</td>\n",
       "      <td>44</td>\n",
       "      <td>Friday</td>\n",
       "      <td>144</td>\n",
       "      <td>Manhattan</td>\n",
       "      <td>Little Italy/NoLiTa</td>\n",
       "    </tr>\n",
       "  </tbody>\n",
       "</table>\n",
       "<p>13372254 rows × 10 columns</p>\n",
       "</div>"
      ],
      "text/plain": [
       "          locationID  Year  Month  Day  Hour  Minute Day_Name  LocationID  \\\n",
       "0                141  2015      5   17     9      47   Sunday         141   \n",
       "1                 65  2015      5   17     9      47   Sunday          65   \n",
       "2                100  2015      5   17     9      47   Sunday         100   \n",
       "3                 80  2015      5   17     9      47   Sunday          80   \n",
       "4                 90  2015      5   17     9      47   Sunday          90   \n",
       "...              ...   ...    ...  ...   ...     ...      ...         ...   \n",
       "13372249         186  2015      5    8    15      43   Friday         186   \n",
       "13372250         263  2015      5    8    15      43   Friday         263   \n",
       "13372251          90  2015      5    8    15      43   Friday          90   \n",
       "13372252          45  2015      5    8    15      44   Friday          45   \n",
       "13372253         144  2015      5    8    15      44   Friday         144   \n",
       "\n",
       "            Borough                          Zone  \n",
       "0         Manhattan               Lenox Hill West  \n",
       "1          Brooklyn   Downtown Brooklyn/MetroTech  \n",
       "2         Manhattan              Garment District  \n",
       "3          Brooklyn             East Williamsburg  \n",
       "4         Manhattan                      Flatiron  \n",
       "...             ...                           ...  \n",
       "13372249  Manhattan  Penn Station/Madison Sq West  \n",
       "13372250  Manhattan                Yorkville West  \n",
       "13372251  Manhattan                      Flatiron  \n",
       "13372252  Manhattan                     Chinatown  \n",
       "13372253  Manhattan           Little Italy/NoLiTa  \n",
       "\n",
       "[13372254 rows x 10 columns]"
      ]
     },
     "execution_count": 156,
     "metadata": {},
     "output_type": "execute_result"
    }
   ],
   "source": [
    "uber_df4"
   ]
  },
  {
   "cell_type": "markdown",
   "id": "6530f79b-0850-406e-9312-61154af7bf79",
   "metadata": {},
   "source": [
    "Dropping locationID column"
   ]
  },
  {
   "cell_type": "code",
   "execution_count": 157,
   "id": "ccd5fbd4-a68a-4e21-8fee-0349dec2c416",
   "metadata": {},
   "outputs": [],
   "source": [
    "uber_df5 = uber_df4.drop(['locationID'], axis=1)"
   ]
  },
  {
   "cell_type": "markdown",
   "id": "5203b5a4-9884-4fbb-a9ed-2bde394442d0",
   "metadata": {},
   "source": [
    "Counting drives grouped by Borough"
   ]
  },
  {
   "cell_type": "code",
   "execution_count": 639,
   "id": "674db16d-e75c-4de7-b586-8d1c85050079",
   "metadata": {},
   "outputs": [],
   "source": [
    "Count_Loc=uber_df5.groupby(by=[\"Borough\"]).LocationID.count().reset_index(name='Count').sort_values(by='Count',ascending=False)"
   ]
  },
  {
   "cell_type": "code",
   "execution_count": 640,
   "id": "cadfc6fb-eaee-4206-907c-7939c8dc381e",
   "metadata": {},
   "outputs": [
    {
     "data": {
      "text/html": [
       "<div>\n",
       "<style scoped>\n",
       "    .dataframe tbody tr th:only-of-type {\n",
       "        vertical-align: middle;\n",
       "    }\n",
       "\n",
       "    .dataframe tbody tr th {\n",
       "        vertical-align: top;\n",
       "    }\n",
       "\n",
       "    .dataframe thead th {\n",
       "        text-align: right;\n",
       "    }\n",
       "</style>\n",
       "<table border=\"1\" class=\"dataframe\">\n",
       "  <thead>\n",
       "    <tr style=\"text-align: right;\">\n",
       "      <th></th>\n",
       "      <th>Borough</th>\n",
       "      <th>Count</th>\n",
       "    </tr>\n",
       "  </thead>\n",
       "  <tbody>\n",
       "    <tr>\n",
       "      <th>3</th>\n",
       "      <td>Manhattan</td>\n",
       "      <td>9623389</td>\n",
       "    </tr>\n",
       "    <tr>\n",
       "      <th>1</th>\n",
       "      <td>Brooklyn</td>\n",
       "      <td>2242234</td>\n",
       "    </tr>\n",
       "    <tr>\n",
       "      <th>4</th>\n",
       "      <td>Queens</td>\n",
       "      <td>1275061</td>\n",
       "    </tr>\n",
       "    <tr>\n",
       "      <th>0</th>\n",
       "      <td>Bronx</td>\n",
       "      <td>218331</td>\n",
       "    </tr>\n",
       "    <tr>\n",
       "      <th>5</th>\n",
       "      <td>Staten Island</td>\n",
       "      <td>6924</td>\n",
       "    </tr>\n",
       "    <tr>\n",
       "      <th>6</th>\n",
       "      <td>Unknown</td>\n",
       "      <td>6210</td>\n",
       "    </tr>\n",
       "    <tr>\n",
       "      <th>2</th>\n",
       "      <td>EWR</td>\n",
       "      <td>105</td>\n",
       "    </tr>\n",
       "  </tbody>\n",
       "</table>\n",
       "</div>"
      ],
      "text/plain": [
       "         Borough    Count\n",
       "3      Manhattan  9623389\n",
       "1       Brooklyn  2242234\n",
       "4         Queens  1275061\n",
       "0          Bronx   218331\n",
       "5  Staten Island     6924\n",
       "6        Unknown     6210\n",
       "2            EWR      105"
      ]
     },
     "execution_count": 640,
     "metadata": {},
     "output_type": "execute_result"
    }
   ],
   "source": [
    "Count_Loc"
   ]
  },
  {
   "cell_type": "markdown",
   "id": "9cc095e8-a339-4567-97bc-3fffee488489",
   "metadata": {},
   "source": [
    "Creating a pie chart for the distruibition rides across NYC "
   ]
  },
  {
   "cell_type": "code",
   "execution_count": 644,
   "id": "603efa04-aa44-48ab-a7a3-5c97d8343692",
   "metadata": {},
   "outputs": [
    {
     "data": {
      "text/plain": [
       "array(['Manhattan', 'Brooklyn', 'Queens', 'Bronx', 'Staten Island',\n",
       "       'Unknown', 'EWR'], dtype=object)"
      ]
     },
     "execution_count": 644,
     "metadata": {},
     "output_type": "execute_result"
    }
   ],
   "source": [
    "labels=Count_Loc['Borough'].values\n",
    "labels"
   ]
  },
  {
   "cell_type": "code",
   "execution_count": 674,
   "id": "df949af1-adee-445d-835c-d0111cdefc25",
   "metadata": {},
   "outputs": [
    {
     "data": {
      "text/plain": [
       "<Axes: title={'center': 'Distruibition of Uber Ride Activity'}, ylabel='Count'>"
      ]
     },
     "execution_count": 674,
     "metadata": {},
     "output_type": "execute_result"
    },
    {
     "data": {
      "image/png": "[encoded data removed]",
      "text/plain": [
       "<Figure size 500x1500 with 1 Axes>"
      ]
     },
     "metadata": {},
     "output_type": "display_data"
    }
   ],
   "source": [
    "Count_Loc.plot(kind='pie',y='Count',labels=labels,legend=True,title=\"Distruibition of Uber Ride Activity\",figsize=(5,15))"
   ]
  },
  {
   "cell_type": "markdown",
   "id": "cb917305-2b71-40d1-8192-63468e998be8",
   "metadata": {},
   "source": [
    "Creating a bar chart for the top 10 bussiest zones inside Manh"
   ]
  },
  {
   "cell_type": "code",
   "execution_count": 502,
   "id": "676f9512-96c7-4791-80fa-e56f34877437",
   "metadata": {},
   "outputs": [],
   "source": [
    "manhattan_df =Count_boro[Count_boro['Borough'] == 'Manhattan']"
   ]
  },
  {
   "cell_type": "code",
   "execution_count": 656,
   "id": "b5b89db7-e02f-4fb6-98ce-d91072218123",
   "metadata": {},
   "outputs": [
    {
     "data": {
      "text/plain": [
       "<Axes: title={'center': 'Highest Areas Demand for Uber Ride in Manhatten'}, xlabel='Areas', ylabel='Number of Rides'>"
      ]
     },
     "execution_count": 656,
     "metadata": {},
     "output_type": "execute_result"
    },
    {
     "data": {
      "image/png": "[encoded data removed]",
      "text/plain": [
       "<Figure size 640x480 with 1 Axes>"
      ]
     },
     "metadata": {},
     "output_type": "display_data"
    }
   ],
   "source": [
    "manhattan_df.head(10).plot(kind=\"bar\",x='Zone',title=\"Highest Areas Demand for Uber Ride in Manhatten\",xlabel='Areas',ylabel='Number of Rides',legend=False)"
   ]
  },
  {
   "cell_type": "code",
   "execution_count": null,
   "id": "6b8109ce-e0f7-433e-9b19-16923a6f0f00",
   "metadata": {},
   "outputs": [],
   "source": []
  }
 ],
 "metadata": {
  "kernelspec": {
   "display_name": "Python [conda env:base] *",
   "language": "python",
   "name": "conda-base-py"
  },
  "language_info": {
   "codemirror_mode": {
    "name": "ipython",
    "version": 3
   },
   "file_extension": ".py",
   "mimetype": "text/x-python",
   "name": "python",
   "nbconvert_exporter": "python",
   "pygments_lexer": "ipython3",
   "version": "3.12.7"
  }
 },
 "nbformat": 4,
 "nbformat_minor": 5
}
